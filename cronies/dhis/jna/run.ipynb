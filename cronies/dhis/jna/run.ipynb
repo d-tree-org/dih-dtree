{
 "cells": [
  {
   "cell_type": "code",
   "execution_count": 2,
   "metadata": {},
   "outputs": [
    {
     "name": "stdout",
     "output_type": "stream",
     "text": [
      "."
     ]
    }
   ],
   "source": [
    "import sys\n",
    "sys.path.append('../libs')\n",
    "from src import dhis_meta as mt\n",
    "import utils as fn\n",
    "\n",
    "\n",
    "conf=fn.get_config('/home/n2/.dih.configs/jna-dhis-config.json')\n",
    "meta=mt.DHIS_Meta(conf);\n",
    "# meta.add_category_combo()\n",
    "# meta.rename_elements()\n",
    "meta.update()\n",
    "# meta.__map"
   ]
  },
  {
   "cell_type": "code",
   "execution_count": null,
   "metadata": {},
   "outputs": [],
   "source": [
    "import sys\n",
    "sys.path.append('../libs')\n",
    "from src import dhis_meta as mt\n",
    "import utils as fn\n",
    "\n"
   ]
  }
 ],
 "metadata": {
  "kernelspec": {
   "display_name": ".pyenv",
   "language": "python",
   "name": "python3"
  },
  "language_info": {
   "codemirror_mode": {
    "name": "ipython",
    "version": 3
   },
   "file_extension": ".py",
   "mimetype": "text/x-python",
   "name": "python",
   "nbconvert_exporter": "python",
   "pygments_lexer": "ipython3",
   "version": "3.11.2"
  },
  "orig_nbformat": 4
 },
 "nbformat": 4,
 "nbformat_minor": 2
}
