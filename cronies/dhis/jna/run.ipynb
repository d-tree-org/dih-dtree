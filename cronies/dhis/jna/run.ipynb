{
 "cells": [
  {
   "cell_type": "code",
   "execution_count": 2,
   "metadata": {},
   "outputs": [],
   "source": [
    "import sys\n",
    "sys.path.extend(['../libs','../src/'])\n",
    "import dhis_meta as mt\n",
    "import utils as fn\n",
    "\n",
    "\n",
    "conf=fn.get_config('/home/n2/.dih.configs/jna.json')\n",
    "meta=mt.DHIS_Meta(conf);\n",
    "meta.update()"
   ]
  },
  {
   "cell_type": "code",
   "execution_count": null,
   "metadata": {},
   "outputs": [],
   "source": [
    "\n",
    "#!/usr/bin/env python\n",
    "# apt-get install libbz2-dev ssh-client postgresql-client\n",
    "# pip install --upgrade pandas openpyxl SQLAlchemy psycopg2-binary google-api-python-client google-auth-httplib2 google-auth-oauthlib oauth2client\n",
    "# cron_time 0 03 4 * *\n",
    "import sys\n",
    "sys.path+=[\"../libs\",'../src']\n",
    "from main import main \n",
    "import utils as fn\n",
    "\n",
    "\n",
    "if __name__ == \"__main__\":\n",
    "    x = sys.argv[1] if len(sys.argv) > 1 else fn.get_month(-1)\n",
    "    x=fn.get_month(-2)\n",
    "    data = main(month=x,task_name='jna-dhis',config_file='/home/n2/.dih.configs/jna.json')\n",
    "    print(data)\n"
   ]
  }
 ],
 "metadata": {
  "kernelspec": {
   "display_name": ".pyenv",
   "language": "python",
   "name": "python3"
  },
  "language_info": {
   "codemirror_mode": {
    "name": "ipython",
    "version": 3
   },
   "file_extension": ".py",
   "mimetype": "text/x-python",
   "name": "python",
   "nbconvert_exporter": "python",
   "pygments_lexer": "ipython3",
   "version": "3.11.2"
  },
  "orig_nbformat": 4
 },
 "nbformat": 4,
 "nbformat_minor": 2
}
